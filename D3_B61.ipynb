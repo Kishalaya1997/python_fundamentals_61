{
 "cells": [
  {
   "cell_type": "code",
   "execution_count": 5,
   "id": "91bdb7bc",
   "metadata": {},
   "outputs": [
    {
     "name": "stdout",
     "output_type": "stream",
     "text": [
      "kishalaya bhattacharya\n"
     ]
    }
   ],
   "source": [
    "first_name = 'kishalaya'\n",
    "last_name = 'bhattacharya'\n",
    "# I need the full name\n",
    "full_name = 'kishalaya bhattacharya'\n",
    "print(full_name)\n",
    "\n"
   ]
  },
  {
   "cell_type": "code",
   "execution_count": 6,
   "id": "6a2fc1ca",
   "metadata": {},
   "outputs": [
    {
     "name": "stdout",
     "output_type": "stream",
     "text": [
      "Kishalaya Bhattacharya\n"
     ]
    }
   ],
   "source": [
    "print(full_name.title())"
   ]
  },
  {
   "cell_type": "code",
   "execution_count": 7,
   "id": "98d2ca45",
   "metadata": {},
   "outputs": [
    {
     "name": "stdout",
     "output_type": "stream",
     "text": [
      "KISHALAYA BHATTACHARYA\n"
     ]
    }
   ],
   "source": [
    "print(full_name.upper())"
   ]
  },
  {
   "cell_type": "code",
   "execution_count": 8,
   "id": "71d1e89f",
   "metadata": {},
   "outputs": [
    {
     "name": "stdout",
     "output_type": "stream",
     "text": [
      "kishalaya bhattacharya\n"
     ]
    }
   ],
   "source": [
    "print(full_name.lower())"
   ]
  },
  {
   "cell_type": "code",
   "execution_count": 9,
   "id": "66d6993d",
   "metadata": {},
   "outputs": [],
   "source": [
    "# introduction to 'f'strings"
   ]
  },
  {
   "cell_type": "code",
   "execution_count": 10,
   "id": "d2e53cc4",
   "metadata": {},
   "outputs": [],
   "source": [
    "# I want to print That was an excellent performance by David Beckham"
   ]
  },
  {
   "cell_type": "code",
   "execution_count": 14,
   "id": "cabf3340",
   "metadata": {},
   "outputs": [
    {
     "name": "stdout",
     "output_type": "stream",
     "text": [
      "That was an excellent performance by david beckham\n"
     ]
    }
   ],
   "source": [
    "first_name = 'david'\n",
    "last_name = 'beckham'\n",
    "\n",
    "sentence = f\"That was an excellent performance by {first_name} {last_name}\"\n",
    "print(sentence)"
   ]
  },
  {
   "cell_type": "code",
   "execution_count": 18,
   "id": "c4d74ec4",
   "metadata": {},
   "outputs": [
    {
     "name": "stdout",
     "output_type": "stream",
     "text": [
      "That was an excellent performance by David Beckham\n"
     ]
    }
   ],
   "source": [
    "full_name1 = 'david beckham'\n",
    "sentence1 = f\"That was an excellent performance by {full_name1.title()}\"\n",
    "print(sentence1)"
   ]
  },
  {
   "cell_type": "code",
   "execution_count": 19,
   "id": "7fdd14fa",
   "metadata": {},
   "outputs": [],
   "source": [
    "# adding whitespaces to strings"
   ]
  },
  {
   "cell_type": "code",
   "execution_count": 20,
   "id": "2a0875ed",
   "metadata": {},
   "outputs": [
    {
     "name": "stdout",
     "output_type": "stream",
     "text": [
      "favourite_programming_languagepyhtonjavac++swifthtmlc\n"
     ]
    }
   ],
   "source": [
    "print(\"favourite_programming_languagepyhtonjavac++swifthtmlc\")"
   ]
  },
  {
   "cell_type": "code",
   "execution_count": 21,
   "id": "7a838b45",
   "metadata": {},
   "outputs": [
    {
     "name": "stdout",
     "output_type": "stream",
     "text": [
      "favourite_programming_language:\n",
      "python\n",
      "java\n",
      "c++\n",
      "swift\n",
      "html\n",
      "c\n"
     ]
    }
   ],
   "source": [
    "print(\"favourite_programming_language:\\npython\\njava\\nc++\\nswift\\nhtml\\nc\")"
   ]
  },
  {
   "cell_type": "code",
   "execution_count": 22,
   "id": "e0f8d1fe",
   "metadata": {},
   "outputs": [
    {
     "name": "stdout",
     "output_type": "stream",
     "text": [
      "favourite_programming_language:\n",
      "\tpyhton\n",
      "\tjava\n",
      "\tc++\n",
      "\tswift\n",
      "\thtml\n",
      "\tc\n"
     ]
    }
   ],
   "source": [
    "print(\"favourite_programming_language:\\n\\tpyhton\\n\\tjava\\n\\tc++\\n\\tswift\\n\\thtml\\n\\tc\")"
   ]
  },
  {
   "cell_type": "code",
   "execution_count": 23,
   "id": "2e66d580",
   "metadata": {},
   "outputs": [],
   "source": [
    "# removing whitespaces from strings"
   ]
  },
  {
   "cell_type": "code",
   "execution_count": 32,
   "id": "b790f17b",
   "metadata": {},
   "outputs": [
    {
     "name": "stdout",
     "output_type": "stream",
     "text": [
      "Thomas       Mapothas Cruise        \n"
     ]
    }
   ],
   "source": [
    "firstname5 = 'Thomas'\n",
    "middlename6 = '      Mapothas'\n",
    "lastname7 = 'Cruise        '\n",
    "fullname_8 = f\"{firstname5} {middlename6} {lastname7}\"\n",
    "print(fullname_8)"
   ]
  },
  {
   "cell_type": "code",
   "execution_count": 39,
   "id": "b8223230",
   "metadata": {},
   "outputs": [
    {
     "name": "stdout",
     "output_type": "stream",
     "text": [
      "<built-in method lstrip of str object at 0x0000020137D94BF0>\n",
      "<built-in method rstrip of str object at 0x0000020137D945B0>\n"
     ]
    }
   ],
   "source": [
    "print(middlename6.lstrip)\n",
    "print(lastname7.rstrip)"
   ]
  },
  {
   "cell_type": "code",
   "execution_count": null,
   "id": "ba07dd46",
   "metadata": {},
   "outputs": [],
   "source": []
  },
  {
   "cell_type": "code",
   "execution_count": null,
   "id": "2de7d5c3",
   "metadata": {},
   "outputs": [],
   "source": []
  }
 ],
 "metadata": {
  "kernelspec": {
   "display_name": "Python 3 (ipykernel)",
   "language": "python",
   "name": "python3"
  },
  "language_info": {
   "codemirror_mode": {
    "name": "ipython",
    "version": 3
   },
   "file_extension": ".py",
   "mimetype": "text/x-python",
   "name": "python",
   "nbconvert_exporter": "python",
   "pygments_lexer": "ipython3",
   "version": "3.9.12"
  }
 },
 "nbformat": 4,
 "nbformat_minor": 5
}
